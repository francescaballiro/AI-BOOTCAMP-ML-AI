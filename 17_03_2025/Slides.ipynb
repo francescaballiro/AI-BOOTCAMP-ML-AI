{
 "cells": [
  {
   "cell_type": "markdown",
   "id": "e3106672-d9b2-420d-99bb-5d41d65e2b06",
   "metadata": {},
   "source": [
    "**SUPERVISED LEARNING**\n",
    "\n",
    "imparano in autonomia un esperienza e in base a questa esperienza fanno previsioni nel futuro prossimo o lontano. \n",
    "Ci sono tre tipi di machine learning\n",
    "- SUPERVISED\n",
    "- UNSUPERVOSED\n"
   ]
  },
  {
   "cell_type": "code",
   "execution_count": null,
   "id": "6f0533be-3ee2-4d39-a1ac-c25c9c5f75ae",
   "metadata": {},
   "outputs": [],
   "source": []
  },
  {
   "cell_type": "code",
   "execution_count": null,
   "id": "976692c7-75f2-491d-99a5-4e7cbd517d3d",
   "metadata": {},
   "outputs": [],
   "source": []
  },
  {
   "cell_type": "markdown",
   "id": "d386d356-3902-4b59-821e-9e33561e4403",
   "metadata": {},
   "source": [
    "**SUPERVIDESD** prova a predirre partendo da dati con etichetta (sulla base dell'esperienza sappiamo il tipo di output).\n",
    "abbiamo un set di dati con nomi \n",
    "\n",
    "**STEP IMPLEMENTAZIONE**\n",
    "- collezionare e etichettare dati: comprendere dati, pulizie e trasformazioni. ottenere dataset pulito è fondamentale per avere buoni risultati dopo aver applicato un modello\n",
    "- splittare dataset nel set di training-test: importante per far si che il modello riescaa generalizzare\n",
    "- scegliere algoritmo da applicare al problema: fondamentale perchè bisogna capire che tipo di problema stiamo affrontando per scegliere il giusto algoritmo\n",
    "- eseguire algoritmo\n",
    "- valutare risultati algoritmo"
   ]
  },
  {
   "cell_type": "markdown",
   "id": "a280060f-1017-44d2-976a-52e008993541",
   "metadata": {},
   "source": [
    "**MODELLI PRINCIPALI**\n",
    "Ci sono sempre e solo due problemi: REGRESSIONE o CLASSIFICAZIONE\n",
    "- REGRESSIONE: quello che dobbiamo predirre sarà un numero continuo\n",
    "- CLASSIFICAZIONE: bisogna predirre una classe\n",
    "\n",
    "ci sono quindi solo due tipologie di analisi"
   ]
  },
  {
   "cell_type": "markdown",
   "id": "d193a6e8-3517-41be-94aa-1d461830b351",
   "metadata": {},
   "source": [
    "# **REGRESSIONE**\n",
    "la regressione può essere divisa in \n",
    "- **regressione lineare** che viene definita come relazione lineare tra variabile dipendente e variabile indipendente (eq lineare);\n",
    "- **regressione polinomiale** relazione non lineare tra variabile dipendente e variabile indipendente.  (Una sola variabile indipendente x che viene ripetuta più volte con elevazioni diverse)\n",
    "  "
   ]
  },
  {
   "cell_type": "markdown",
   "id": "4ab71b51-b837-4ef3-bed3-afa1e4457c3d",
   "metadata": {},
   "source": [
    "- **SIMPLE LINEAR REGRESSION** relazione tra variabile dipendente e una signola variabile indipendente. y=b0+b1y\n",
    "bo= intersezione della linea\n",
    "b1= inrersezione con la linea \n",
    "- **MULTIPLE LINEAR REGRESSION** relazoine lineare tra una signola variabile indipendente e una serie di variabili dipendenti x1,x2,...,xn\n",
    "- **REGRESSIONE POLINOMIALE** relazione tra variabile indipendenti e una o più variabili dipendenti fittando un equazione polinomiale"
   ]
  },
  {
   "cell_type": "markdown",
   "id": "5789ab47-1c9b-4a9d-865b-ce320d264fac",
   "metadata": {},
   "source": [
    "usiamo le regressioni quando dobbiamo predirre un numero:\n",
    "- prevedere prezzo della casa\n",
    "- prevedere le vendite in base ai soldi spesi per la pubblicità\n",
    "- prevedere temperatura in base alle previsionni meteo\n",
    "\n",
    "Per capire quale modello utilizzare bisogna sempre prima visualizzare i dati per vedere come sono dispersi (se in modo lineare o in modo polinomiale)"
   ]
  },
  {
   "cell_type": "markdown",
   "id": "42381fa2-e961-4e5b-ac37-ca12b86bc8e5",
   "metadata": {},
   "source": [
    "# LOGISTIC REGRESSION"
   ]
  },
  {
   "cell_type": "markdown",
   "id": "da781234-b7c0-4256-8194-9e195a2ebc00",
   "metadata": {},
   "source": [
    "Vengono applicati per modelli di classificazione. Logistic regression non è un modello di regressione ma di classificazione\n",
    "- BINARY LOGISTIC REGRESSION: modelli che devono predirre due classi. (spam detecion, malato non malato)\n",
    "- MULTINOMIALI LOGISTIC REGRESSION: modelli che devono predirre più di due classi (riconoscere tra tre classi: low, medium, high)"
   ]
  },
  {
   "cell_type": "markdown",
   "id": "d0d04f73-9d4c-46be-adc2-5ac9b7bd4c01",
   "metadata": {},
   "source": [
    "**GRAFICO LOGISTIC REGRESSION** \n",
    "i puntini rossi sono le nostre previsioni, le linea sinusoidale e la regola utilizzata. \n",
    "\n",
    "Se ho punti sopra 0.5 classifico come 1 se ho punti sotto 0.5 classifico come 0."
   ]
  },
  {
   "cell_type": "markdown",
   "id": "06a03193-eb0a-4c2c-92ff-eaf00de20fce",
   "metadata": {},
   "source": [
    "- In logistic regression possiamo predirre anche una probabilità di avere una certa classe. Quindi non solo si definisce la classe di appartenzenza ma anche con che probabilità il record appartiene a questa classe"
   ]
  },
  {
   "cell_type": "markdown",
   "id": "3b69c67d-3c82-4569-a744-143dbc535c60",
   "metadata": {},
   "source": [
    "\n",
    "QUALISASI PROBLEMA DI REGRESSIONE PU0' ESSERE TRASFORMATO IN PROBLEMA DI CLASSIFICAZIONE. per esempio predizione del prezzo delle macchine utilizzate è un problema di regressione che può essere trasformato in classificazione dividendo le classi in fascia bassa, media e alta in base al prezzo. \n",
    "\n",
    " questo si fa perchè tendenzialmente i problemi di classificazione sono più facili da risolvere e sono migliori anche per spiegare i risultati al cliente"
   ]
  },
  {
   "cell_type": "markdown",
   "id": "24847d88-a0fc-4324-bd8e-119f33c840a3",
   "metadata": {},
   "source": [
    "# DECISION TREE"
   ]
  },
  {
   "cell_type": "markdown",
   "id": "f67e3dbe-ec1c-45d7-91b8-5d30fc58e4aa",
   "metadata": {},
   "source": [
    "può essere utilizzato sia per problemi di regressione che per problemi di classificazione. E' un modello molto comprensibile perchè tendenzialmente ripete il ragionamento reale umano"
   ]
  },
  {
   "cell_type": "markdown",
   "id": "e8b39285-795f-4659-a13d-1dc339a106c9",
   "metadata": {},
   "source": [
    "**BUILDING DECISION TREE**\n",
    "- partizione di un set reale in subset più piccoli in maniera ricorsiva. questo split viene fatto sulla base di metriche che sono di questo tipo ENTROPIA, INFORMAZIONE, GINI INDEX, GINI GAIN"
   ]
  },
  {
   "cell_type": "markdown",
   "id": "ad524f46-8888-453e-9f65-f0f58b710467",
   "metadata": {},
   "source": [
    "**DECISION TREE**\n",
    "- nei problemi di regressione viene predetto un range di valori nei problemi di classificazione prevediamo una classe\n",
    "- algoritmi molto comprensibili che possono essere visualizzati al cliente percorrendo l'albero decisionale in ogni split\n",
    "- gli alberi decisionali posso utilizzare all'interno delle variabili indipendenti sia numeri categorici che numeri continui. a volte infatti serve fare una conversione da categorico a continuo con i logaritmi decision tree invece si possono utilzzare i numeri categorici."
   ]
  },
  {
   "cell_type": "markdown",
   "id": "662dbeff-2787-4c9e-858f-3cbfdadac1f0",
   "metadata": {},
   "source": [
    "# ALTRI METODI DI SUPERVISED LEARNING"
   ]
  },
  {
   "cell_type": "markdown",
   "id": "b0a3d5e9-2957-4dac-a385-75355d325c94",
   "metadata": {},
   "source": [
    "Combinazione di diversi algoritmi all'interno di un problema per migliorare un modello. Si possono combinare output di modelli diversi per ottenere output più performanti.4\n",
    "\n",
    "Ci sono 4 tipi di combinazione di algoritmi\n",
    "- **BAGGIN** media di predizione o votazione. Utilizzata soprattutto nei modelli di regressione\n",
    "- **BOOSTING** modelli trainati in maniera sequenziale. la risposta del primo modello viene passata come variabile indipendente nel secondo modello. Ogni tanto questo tipo di modellazione porta ad avere risultati migliori rispetto all'utilizzo di un singolo modello.\n",
    "- **STACKING (STACKED GENERALIZATION)** trainiamo diversi modelli e sulla base delle risposte di questi modelli si traina un ultimo modello per vedere il risultato finale\n",
    "- **VOTING ENSEMBLE** utilizzato per la classificazione, in base alla votazione di quale tra le classi è predetta più volte\n",
    "\n",
    "Ogni tanto nei problemi di datascience vale la pena di provare a fare ensemble di modelli per ottenere un output più performante."
   ]
  },
  {
   "cell_type": "code",
   "execution_count": null,
   "id": "ffdc2b42-eb3f-4298-8615-8074a9b881be",
   "metadata": {},
   "outputs": [],
   "source": []
  }
 ],
 "metadata": {
  "kernelspec": {
   "display_name": "Python 3 (ipykernel)",
   "language": "python",
   "name": "python3"
  },
  "language_info": {
   "codemirror_mode": {
    "name": "ipython",
    "version": 3
   },
   "file_extension": ".py",
   "mimetype": "text/x-python",
   "name": "python",
   "nbconvert_exporter": "python",
   "pygments_lexer": "ipython3",
   "version": "3.13.1"
  }
 },
 "nbformat": 4,
 "nbformat_minor": 5
}

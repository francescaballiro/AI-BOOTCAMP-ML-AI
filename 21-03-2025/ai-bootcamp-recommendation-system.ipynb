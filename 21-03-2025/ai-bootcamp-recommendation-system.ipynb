{
 "cells": [
  {
   "cell_type": "markdown",
   "id": "2afd6921",
   "metadata": {},
   "source": [
    "# Recommendation System"
   ]
  },
  {
   "cell_type": "markdown",
   "id": "fb950931",
   "metadata": {},
   "source": [
    "This notebook will explore two popular recommendation systems techniques: **Content-Based Filtering** and **Neighborhood-Based Collaborative Filtering**. These methods are widely used in recommendation systems, like those used by online platforms such as Netflix, Amazon, and Spotify, to suggest items (such as movies, products, or music) based on user preferences or item characteristics."
   ]
  },
  {
   "cell_type": "code",
   "execution_count": 1,
   "id": "aa48dcc5",
   "metadata": {},
   "outputs": [],
   "source": [
    "### Import libraries\n",
    "import numpy as np\n",
    "import pandas as pd\n",
    "from sklearn.metrics.pairwise import cosine_similarity"
   ]
  },
  {
   "cell_type": "markdown",
   "id": "295b0c3f",
   "metadata": {},
   "source": [
    "## Content-based filtering Recommendation System\n",
    "\n",
    "Recommendation system focusing on recommending items based on their attributes rather than user behavior data. \n"
   ]
  },
  {
   "cell_type": "code",
   "execution_count": 3,
   "id": "2b02ed9d",
   "metadata": {},
   "outputs": [
    {
     "data": {
      "text/html": [
       "<div>\n",
       "<style scoped>\n",
       "    .dataframe tbody tr th:only-of-type {\n",
       "        vertical-align: middle;\n",
       "    }\n",
       "\n",
       "    .dataframe tbody tr th {\n",
       "        vertical-align: top;\n",
       "    }\n",
       "\n",
       "    .dataframe thead th {\n",
       "        text-align: right;\n",
       "    }\n",
       "</style>\n",
       "<table border=\"1\" class=\"dataframe\">\n",
       "  <thead>\n",
       "    <tr style=\"text-align: right;\">\n",
       "      <th></th>\n",
       "      <th>Book</th>\n",
       "      <th>Fiction</th>\n",
       "      <th>Mystery</th>\n",
       "      <th>Adventure</th>\n",
       "    </tr>\n",
       "  </thead>\n",
       "  <tbody>\n",
       "    <tr>\n",
       "      <th>0</th>\n",
       "      <td>Harry Potter</td>\n",
       "      <td>1</td>\n",
       "      <td>0</td>\n",
       "      <td>1</td>\n",
       "    </tr>\n",
       "    <tr>\n",
       "      <th>1</th>\n",
       "      <td>Sherlock Holmes</td>\n",
       "      <td>0</td>\n",
       "      <td>1</td>\n",
       "      <td>1</td>\n",
       "    </tr>\n",
       "    <tr>\n",
       "      <th>2</th>\n",
       "      <td>Lord of the Rings</td>\n",
       "      <td>1</td>\n",
       "      <td>0</td>\n",
       "      <td>1</td>\n",
       "    </tr>\n",
       "    <tr>\n",
       "      <th>3</th>\n",
       "      <td>Gone Girl</td>\n",
       "      <td>0</td>\n",
       "      <td>1</td>\n",
       "      <td>0</td>\n",
       "    </tr>\n",
       "    <tr>\n",
       "      <th>4</th>\n",
       "      <td>Pride and Prejudice</td>\n",
       "      <td>1</td>\n",
       "      <td>0</td>\n",
       "      <td>1</td>\n",
       "    </tr>\n",
       "    <tr>\n",
       "      <th>5</th>\n",
       "      <td>Moby Dick</td>\n",
       "      <td>1</td>\n",
       "      <td>0</td>\n",
       "      <td>1</td>\n",
       "    </tr>\n",
       "    <tr>\n",
       "      <th>6</th>\n",
       "      <td>1984</td>\n",
       "      <td>1</td>\n",
       "      <td>0</td>\n",
       "      <td>0</td>\n",
       "    </tr>\n",
       "    <tr>\n",
       "      <th>7</th>\n",
       "      <td>War and Peace</td>\n",
       "      <td>1</td>\n",
       "      <td>0</td>\n",
       "      <td>1</td>\n",
       "    </tr>\n",
       "  </tbody>\n",
       "</table>\n",
       "</div>"
      ],
      "text/plain": [
       "                  Book  Fiction  Mystery  Adventure\n",
       "0         Harry Potter        1        0          1\n",
       "1      Sherlock Holmes        0        1          1\n",
       "2    Lord of the Rings        1        0          1\n",
       "3            Gone Girl        0        1          0\n",
       "4  Pride and Prejudice        1        0          1\n",
       "5            Moby Dick        1        0          1\n",
       "6                 1984        1        0          0\n",
       "7        War and Peace        1        0          1"
      ]
     },
     "execution_count": 3,
     "metadata": {},
     "output_type": "execute_result"
    }
   ],
   "source": [
    "# Sample dataset: Books and their genres\n",
    "data = {\n",
    "    'Book': ['Harry Potter', 'Sherlock Holmes', 'Lord of the Rings', 'Gone Girl', 'Pride and Prejudice', 'Moby Dick', '1984', 'War and Peace'],\n",
    "    'Fiction': [1, 0, 1, 0, 1, 1, 1, 1],\n",
    "    'Mystery': [0, 1, 0, 1, 0, 0, 0, 0],\n",
    "    'Adventure': [1, 1, 1, 0, 1, 1, 0, 1]\n",
    "}\n",
    "# convert to Dataframe\n",
    "df = pd.DataFrame(data)\n",
    "df"
   ]
  },
  {
   "cell_type": "code",
   "execution_count": 8,
   "id": "4fcd5b54",
   "metadata": {},
   "outputs": [
    {
     "data": {
      "text/plain": [
       "array(['Harry Potter', 'Sherlock Holmes', 'Lord of the Rings',\n",
       "       'Gone Girl', 'Pride and Prejudice', 'Moby Dick', '1984',\n",
       "       'War and Peace'], dtype=object)"
      ]
     },
     "execution_count": 8,
     "metadata": {},
     "output_type": "execute_result"
    }
   ],
   "source": [
    "df['Book'].values"
   ]
  },
  {
   "cell_type": "code",
   "execution_count": 9,
   "id": "5afb949a",
   "metadata": {},
   "outputs": [
    {
     "data": {
      "text/html": [
       "<div>\n",
       "<style scoped>\n",
       "    .dataframe tbody tr th:only-of-type {\n",
       "        vertical-align: middle;\n",
       "    }\n",
       "\n",
       "    .dataframe tbody tr th {\n",
       "        vertical-align: top;\n",
       "    }\n",
       "\n",
       "    .dataframe thead th {\n",
       "        text-align: right;\n",
       "    }\n",
       "</style>\n",
       "<table border=\"1\" class=\"dataframe\">\n",
       "  <thead>\n",
       "    <tr style=\"text-align: right;\">\n",
       "      <th></th>\n",
       "      <th>Harry Potter</th>\n",
       "      <th>Sherlock Holmes</th>\n",
       "      <th>Lord of the Rings</th>\n",
       "      <th>Gone Girl</th>\n",
       "      <th>Pride and Prejudice</th>\n",
       "      <th>Moby Dick</th>\n",
       "      <th>1984</th>\n",
       "      <th>War and Peace</th>\n",
       "    </tr>\n",
       "    <tr>\n",
       "      <th>Book</th>\n",
       "      <th></th>\n",
       "      <th></th>\n",
       "      <th></th>\n",
       "      <th></th>\n",
       "      <th></th>\n",
       "      <th></th>\n",
       "      <th></th>\n",
       "      <th></th>\n",
       "    </tr>\n",
       "  </thead>\n",
       "  <tbody>\n",
       "    <tr>\n",
       "      <th>Harry Potter</th>\n",
       "      <td>1.000000</td>\n",
       "      <td>0.500000</td>\n",
       "      <td>1.000000</td>\n",
       "      <td>0.000000</td>\n",
       "      <td>1.000000</td>\n",
       "      <td>1.000000</td>\n",
       "      <td>0.707107</td>\n",
       "      <td>1.000000</td>\n",
       "    </tr>\n",
       "    <tr>\n",
       "      <th>Sherlock Holmes</th>\n",
       "      <td>0.500000</td>\n",
       "      <td>1.000000</td>\n",
       "      <td>0.500000</td>\n",
       "      <td>0.707107</td>\n",
       "      <td>0.500000</td>\n",
       "      <td>0.500000</td>\n",
       "      <td>0.000000</td>\n",
       "      <td>0.500000</td>\n",
       "    </tr>\n",
       "    <tr>\n",
       "      <th>Lord of the Rings</th>\n",
       "      <td>1.000000</td>\n",
       "      <td>0.500000</td>\n",
       "      <td>1.000000</td>\n",
       "      <td>0.000000</td>\n",
       "      <td>1.000000</td>\n",
       "      <td>1.000000</td>\n",
       "      <td>0.707107</td>\n",
       "      <td>1.000000</td>\n",
       "    </tr>\n",
       "    <tr>\n",
       "      <th>Gone Girl</th>\n",
       "      <td>0.000000</td>\n",
       "      <td>0.707107</td>\n",
       "      <td>0.000000</td>\n",
       "      <td>1.000000</td>\n",
       "      <td>0.000000</td>\n",
       "      <td>0.000000</td>\n",
       "      <td>0.000000</td>\n",
       "      <td>0.000000</td>\n",
       "    </tr>\n",
       "    <tr>\n",
       "      <th>Pride and Prejudice</th>\n",
       "      <td>1.000000</td>\n",
       "      <td>0.500000</td>\n",
       "      <td>1.000000</td>\n",
       "      <td>0.000000</td>\n",
       "      <td>1.000000</td>\n",
       "      <td>1.000000</td>\n",
       "      <td>0.707107</td>\n",
       "      <td>1.000000</td>\n",
       "    </tr>\n",
       "    <tr>\n",
       "      <th>Moby Dick</th>\n",
       "      <td>1.000000</td>\n",
       "      <td>0.500000</td>\n",
       "      <td>1.000000</td>\n",
       "      <td>0.000000</td>\n",
       "      <td>1.000000</td>\n",
       "      <td>1.000000</td>\n",
       "      <td>0.707107</td>\n",
       "      <td>1.000000</td>\n",
       "    </tr>\n",
       "    <tr>\n",
       "      <th>1984</th>\n",
       "      <td>0.707107</td>\n",
       "      <td>0.000000</td>\n",
       "      <td>0.707107</td>\n",
       "      <td>0.000000</td>\n",
       "      <td>0.707107</td>\n",
       "      <td>0.707107</td>\n",
       "      <td>1.000000</td>\n",
       "      <td>0.707107</td>\n",
       "    </tr>\n",
       "    <tr>\n",
       "      <th>War and Peace</th>\n",
       "      <td>1.000000</td>\n",
       "      <td>0.500000</td>\n",
       "      <td>1.000000</td>\n",
       "      <td>0.000000</td>\n",
       "      <td>1.000000</td>\n",
       "      <td>1.000000</td>\n",
       "      <td>0.707107</td>\n",
       "      <td>1.000000</td>\n",
       "    </tr>\n",
       "  </tbody>\n",
       "</table>\n",
       "</div>"
      ],
      "text/plain": [
       "                     Harry Potter  Sherlock Holmes  Lord of the Rings  \\\n",
       "Book                                                                    \n",
       "Harry Potter             1.000000         0.500000           1.000000   \n",
       "Sherlock Holmes          0.500000         1.000000           0.500000   \n",
       "Lord of the Rings        1.000000         0.500000           1.000000   \n",
       "Gone Girl                0.000000         0.707107           0.000000   \n",
       "Pride and Prejudice      1.000000         0.500000           1.000000   \n",
       "Moby Dick                1.000000         0.500000           1.000000   \n",
       "1984                     0.707107         0.000000           0.707107   \n",
       "War and Peace            1.000000         0.500000           1.000000   \n",
       "\n",
       "                     Gone Girl  Pride and Prejudice  Moby Dick      1984  \\\n",
       "Book                                                                       \n",
       "Harry Potter          0.000000             1.000000   1.000000  0.707107   \n",
       "Sherlock Holmes       0.707107             0.500000   0.500000  0.000000   \n",
       "Lord of the Rings     0.000000             1.000000   1.000000  0.707107   \n",
       "Gone Girl             1.000000             0.000000   0.000000  0.000000   \n",
       "Pride and Prejudice   0.000000             1.000000   1.000000  0.707107   \n",
       "Moby Dick             0.000000             1.000000   1.000000  0.707107   \n",
       "1984                  0.000000             0.707107   0.707107  1.000000   \n",
       "War and Peace         0.000000             1.000000   1.000000  0.707107   \n",
       "\n",
       "                     War and Peace  \n",
       "Book                                \n",
       "Harry Potter              1.000000  \n",
       "Sherlock Holmes           0.500000  \n",
       "Lord of the Rings         1.000000  \n",
       "Gone Girl                 0.000000  \n",
       "Pride and Prejudice       1.000000  \n",
       "Moby Dick                 1.000000  \n",
       "1984                      0.707107  \n",
       "War and Peace             1.000000  "
      ]
     },
     "execution_count": 9,
     "metadata": {},
     "output_type": "execute_result"
    }
   ],
   "source": [
    "# Compute similarity based on genres\n",
    "features = df[['Fiction', 'Mystery', 'Adventure']]\n",
    "similarity_matrix = cosine_similarity(features)\n",
    "\n",
    "# Convert to Dataframe and give index 'Book'\n",
    "similarity_matrix_df = pd.DataFrame(similarity_matrix, columns=df['Book'].values)\n",
    "similarity_matrix_df.index = df['Book']\n",
    "similarity_matrix_df"
   ]
  },
  {
   "cell_type": "code",
   "execution_count": 16,
   "id": "3c9c17fb",
   "metadata": {},
   "outputs": [
    {
     "data": {
      "text/plain": [
       "Harry Potter           1.000000\n",
       "Sherlock Holmes        0.500000\n",
       "Lord of the Rings      1.000000\n",
       "Gone Girl              0.000000\n",
       "Pride and Prejudice    1.000000\n",
       "Moby Dick              1.000000\n",
       "1984                   0.707107\n",
       "War and Peace          1.000000\n",
       "Name: Harry Potter, dtype: float64"
      ]
     },
     "execution_count": 16,
     "metadata": {},
     "output_type": "execute_result"
    }
   ],
   "source": [
    "similarity_matrix_df.loc['Harry Potter']"
   ]
  },
  {
   "cell_type": "code",
   "execution_count": 10,
   "id": "261ab89c",
   "metadata": {},
   "outputs": [
    {
     "data": {
      "text/plain": [
       "Book\n",
       "Harry Potter           1.000000\n",
       "Sherlock Holmes        0.500000\n",
       "Lord of the Rings      1.000000\n",
       "Gone Girl              0.000000\n",
       "Pride and Prejudice    1.000000\n",
       "Moby Dick              1.000000\n",
       "1984                   0.707107\n",
       "War and Peace          1.000000\n",
       "Name: Harry Potter, dtype: float64"
      ]
     },
     "execution_count": 10,
     "metadata": {},
     "output_type": "execute_result"
    }
   ],
   "source": [
    "# Get recommendation based on \"Harry Potter\" book\n",
    "\n",
    "### get the book column\n",
    "similar_scores = similarity_matrix_df['Harry Potter']\n",
    "similar_scores"
   ]
  },
  {
   "cell_type": "code",
   "execution_count": 11,
   "id": "629ae8fe",
   "metadata": {},
   "outputs": [
    {
     "data": {
      "text/plain": [
       "Book\n",
       "Harry Potter           1.000000\n",
       "Lord of the Rings      1.000000\n",
       "Pride and Prejudice    1.000000\n",
       "Moby Dick              1.000000\n",
       "War and Peace          1.000000\n",
       "1984                   0.707107\n",
       "Sherlock Holmes        0.500000\n",
       "Gone Girl              0.000000\n",
       "Name: Harry Potter, dtype: float64"
      ]
     },
     "execution_count": 11,
     "metadata": {},
     "output_type": "execute_result"
    }
   ],
   "source": [
    "### sort array from higher to lower values\n",
    "similar_scores_sorted = similar_scores.sort_values(ascending=False)\n",
    "similar_scores_sorted"
   ]
  },
  {
   "cell_type": "code",
   "execution_count": 13,
   "id": "31b2a5f7",
   "metadata": {},
   "outputs": [
    {
     "data": {
      "text/plain": [
       "Book\n",
       "Lord of the Rings      1.000000\n",
       "Pride and Prejudice    1.000000\n",
       "Moby Dick              1.000000\n",
       "War and Peace          1.000000\n",
       "1984                   0.707107\n",
       "Sherlock Holmes        0.500000\n",
       "Gone Girl              0.000000\n",
       "Name: Harry Potter, dtype: float64"
      ]
     },
     "execution_count": 13,
     "metadata": {},
     "output_type": "execute_result"
    }
   ],
   "source": [
    "similar_scores_sorted[similar_scores_sorted.index != 'Harry Potter']"
   ]
  },
  {
   "cell_type": "code",
   "execution_count": 20,
   "id": "53a1b422",
   "metadata": {},
   "outputs": [],
   "source": [
    "# Provide as a function to recommend similar books\n",
    "def recommend(book_name, similarity_matrix_df, i):\n",
    "    \n",
    "    if book_name not in similarity_matrix_df.columns:\n",
    "        return print(\"There is no book with this title in our dataset\")\n",
    "    \n",
    "    similar_scores = similarity_matrix_df[book_name]\n",
    "    similar_scores_sorted = similar_scores.sort_values(ascending=False)\n",
    "    \n",
    "    result = similar_scores_sorted[similar_scores_sorted.index != book_name]\n",
    "    \n",
    "    return list(result[:i].index)"
   ]
  },
  {
   "cell_type": "code",
   "execution_count": 21,
   "id": "2f0859d5",
   "metadata": {},
   "outputs": [
    {
     "name": "stdout",
     "output_type": "stream",
     "text": [
      "There is no book with this title in our dataset\n",
      "None\n"
     ]
    }
   ],
   "source": [
    "print(recommend('ABC', similarity_matrix_df, 3))"
   ]
  },
  {
   "cell_type": "code",
   "execution_count": 23,
   "id": "45493b2a",
   "metadata": {},
   "outputs": [
    {
     "name": "stdout",
     "output_type": "stream",
     "text": [
      "['Lord of the Rings', 'Pride and Prejudice', 'Moby Dick', 'War and Peace', '1984']\n"
     ]
    }
   ],
   "source": [
    "# Example usage\n",
    "print(recommend('Harry Potter', similarity_matrix_df, 5))"
   ]
  },
  {
   "cell_type": "code",
   "execution_count": 22,
   "id": "d1512523",
   "metadata": {},
   "outputs": [
    {
     "name": "stdout",
     "output_type": "stream",
     "text": [
      "['Harry Potter', 'Lord of the Rings', 'Pride and Prejudice']\n"
     ]
    }
   ],
   "source": [
    "# Example usage\n",
    "print(recommend('1984', similarity_matrix_df, 3))"
   ]
  },
  {
   "cell_type": "code",
   "execution_count": null,
   "id": "c9854457",
   "metadata": {},
   "outputs": [],
   "source": []
  },
  {
   "cell_type": "markdown",
   "id": "8c27347e",
   "metadata": {},
   "source": [
    "## Neighborhood-Based Collaborative Filtering\n",
    "\n",
    "Neighborhood-Based Collaborative Filtering is a type of Collaborative Filtering that makes recommendations based on the preferences of other similar users, often referred to as \"neighbors.\" This method leverages the idea that users who have historically agreed on items (i.e., have similar tastes) will continue to agree in the future."
   ]
  },
  {
   "cell_type": "code",
   "execution_count": 24,
   "id": "af605577",
   "metadata": {},
   "outputs": [
    {
     "data": {
      "text/html": [
       "<div>\n",
       "<style scoped>\n",
       "    .dataframe tbody tr th:only-of-type {\n",
       "        vertical-align: middle;\n",
       "    }\n",
       "\n",
       "    .dataframe tbody tr th {\n",
       "        vertical-align: top;\n",
       "    }\n",
       "\n",
       "    .dataframe thead th {\n",
       "        text-align: right;\n",
       "    }\n",
       "</style>\n",
       "<table border=\"1\" class=\"dataframe\">\n",
       "  <thead>\n",
       "    <tr style=\"text-align: right;\">\n",
       "      <th></th>\n",
       "      <th>Product A</th>\n",
       "      <th>Product B</th>\n",
       "      <th>Product C</th>\n",
       "      <th>Product D</th>\n",
       "      <th>Product E</th>\n",
       "    </tr>\n",
       "  </thead>\n",
       "  <tbody>\n",
       "    <tr>\n",
       "      <th>User1</th>\n",
       "      <td>5.0</td>\n",
       "      <td>3.0</td>\n",
       "      <td>4.0</td>\n",
       "      <td>NaN</td>\n",
       "      <td>NaN</td>\n",
       "    </tr>\n",
       "    <tr>\n",
       "      <th>User2</th>\n",
       "      <td>4.0</td>\n",
       "      <td>NaN</td>\n",
       "      <td>5.0</td>\n",
       "      <td>3.0</td>\n",
       "      <td>NaN</td>\n",
       "    </tr>\n",
       "    <tr>\n",
       "      <th>User3</th>\n",
       "      <td>NaN</td>\n",
       "      <td>NaN</td>\n",
       "      <td>NaN</td>\n",
       "      <td>4.0</td>\n",
       "      <td>5.0</td>\n",
       "    </tr>\n",
       "    <tr>\n",
       "      <th>User4</th>\n",
       "      <td>1.0</td>\n",
       "      <td>1.0</td>\n",
       "      <td>NaN</td>\n",
       "      <td>2.0</td>\n",
       "      <td>4.0</td>\n",
       "    </tr>\n",
       "    <tr>\n",
       "      <th>User5</th>\n",
       "      <td>NaN</td>\n",
       "      <td>4.0</td>\n",
       "      <td>2.0</td>\n",
       "      <td>5.0</td>\n",
       "      <td>3.0</td>\n",
       "    </tr>\n",
       "  </tbody>\n",
       "</table>\n",
       "</div>"
      ],
      "text/plain": [
       "       Product A  Product B  Product C  Product D  Product E\n",
       "User1        5.0        3.0        4.0        NaN        NaN\n",
       "User2        4.0        NaN        5.0        3.0        NaN\n",
       "User3        NaN        NaN        NaN        4.0        5.0\n",
       "User4        1.0        1.0        NaN        2.0        4.0\n",
       "User5        NaN        4.0        2.0        5.0        3.0"
      ]
     },
     "execution_count": 24,
     "metadata": {},
     "output_type": "execute_result"
    }
   ],
   "source": [
    "# Step 1: Sample data (user-product interaction matrix)\n",
    "# Rows represent users and columns represent products. Values are ratings.\n",
    "data = {\n",
    "    'Product A': [5, 4, None, 1, None],\n",
    "    'Product B': [3, None, None, 1, 4],\n",
    "    'Product C': [4, 5, None, None, 2],\n",
    "    'Product D': [None, 3, 4, 2, 5],\n",
    "    'Product E': [None, None, 5, 4, 3],\n",
    "}\n",
    "\n",
    "# Create DataFrame\n",
    "df = pd.DataFrame(data, index=['User1', 'User2', 'User3', 'User4', 'User5'])\n",
    "df"
   ]
  },
  {
   "cell_type": "code",
   "execution_count": 26,
   "id": "011af1f0",
   "metadata": {},
   "outputs": [
    {
     "data": {
      "text/html": [
       "<div>\n",
       "<style scoped>\n",
       "    .dataframe tbody tr th:only-of-type {\n",
       "        vertical-align: middle;\n",
       "    }\n",
       "\n",
       "    .dataframe tbody tr th {\n",
       "        vertical-align: top;\n",
       "    }\n",
       "\n",
       "    .dataframe thead th {\n",
       "        text-align: right;\n",
       "    }\n",
       "</style>\n",
       "<table border=\"1\" class=\"dataframe\">\n",
       "  <thead>\n",
       "    <tr style=\"text-align: right;\">\n",
       "      <th></th>\n",
       "      <th>User1</th>\n",
       "      <th>User2</th>\n",
       "      <th>User3</th>\n",
       "      <th>User4</th>\n",
       "      <th>User5</th>\n",
       "    </tr>\n",
       "  </thead>\n",
       "  <tbody>\n",
       "    <tr>\n",
       "      <th>User1</th>\n",
       "      <td>1.000000</td>\n",
       "      <td>0.800000</td>\n",
       "      <td>0.000000</td>\n",
       "      <td>0.241209</td>\n",
       "      <td>0.384900</td>\n",
       "    </tr>\n",
       "    <tr>\n",
       "      <th>User2</th>\n",
       "      <td>0.800000</td>\n",
       "      <td>1.000000</td>\n",
       "      <td>0.265036</td>\n",
       "      <td>0.301511</td>\n",
       "      <td>0.481125</td>\n",
       "    </tr>\n",
       "    <tr>\n",
       "      <th>User3</th>\n",
       "      <td>0.000000</td>\n",
       "      <td>0.265036</td>\n",
       "      <td>1.000000</td>\n",
       "      <td>0.932298</td>\n",
       "      <td>0.743839</td>\n",
       "    </tr>\n",
       "    <tr>\n",
       "      <th>User4</th>\n",
       "      <td>0.241209</td>\n",
       "      <td>0.301511</td>\n",
       "      <td>0.932298</td>\n",
       "      <td>1.000000</td>\n",
       "      <td>0.754337</td>\n",
       "    </tr>\n",
       "    <tr>\n",
       "      <th>User5</th>\n",
       "      <td>0.384900</td>\n",
       "      <td>0.481125</td>\n",
       "      <td>0.743839</td>\n",
       "      <td>0.754337</td>\n",
       "      <td>1.000000</td>\n",
       "    </tr>\n",
       "  </tbody>\n",
       "</table>\n",
       "</div>"
      ],
      "text/plain": [
       "          User1     User2     User3     User4     User5\n",
       "User1  1.000000  0.800000  0.000000  0.241209  0.384900\n",
       "User2  0.800000  1.000000  0.265036  0.301511  0.481125\n",
       "User3  0.000000  0.265036  1.000000  0.932298  0.743839\n",
       "User4  0.241209  0.301511  0.932298  1.000000  0.754337\n",
       "User5  0.384900  0.481125  0.743839  0.754337  1.000000"
      ]
     },
     "execution_count": 26,
     "metadata": {},
     "output_type": "execute_result"
    }
   ],
   "source": [
    "# Step 2: Calculate similarity between users (using cosine similarity)\n",
    "user_similarity = cosine_similarity(df.fillna(0))\n",
    "\n",
    "# Step 3: Convert similarity into a DataFrame\n",
    "user_similarity_df = pd.DataFrame(user_similarity, columns=df.index, index=df.index)\n",
    "user_similarity_df"
   ]
  },
  {
   "cell_type": "code",
   "execution_count": 27,
   "id": "aebebfe3",
   "metadata": {},
   "outputs": [
    {
     "data": {
      "text/plain": [
       "Product A    5.0\n",
       "Product B    3.0\n",
       "Product C    4.0\n",
       "Product D    NaN\n",
       "Product E    NaN\n",
       "Name: User1, dtype: float64"
      ]
     },
     "execution_count": 27,
     "metadata": {},
     "output_type": "execute_result"
    }
   ],
   "source": [
    "# use User1 as example\n",
    "\n",
    "# Get ratings for the specified user\n",
    "user_ratings = df.loc['User1']\n",
    "user_ratings"
   ]
  },
  {
   "cell_type": "code",
   "execution_count": 28,
   "id": "22b23d77",
   "metadata": {},
   "outputs": [
    {
     "data": {
      "text/plain": [
       "User1    1.000000\n",
       "User2    0.800000\n",
       "User3    0.000000\n",
       "User4    0.241209\n",
       "User5    0.384900\n",
       "Name: User1, dtype: float64"
      ]
     },
     "execution_count": 28,
     "metadata": {},
     "output_type": "execute_result"
    }
   ],
   "source": [
    "# Get the similarity scores of the user with all other users\n",
    "similar_users = user_similarity_df.loc['User1']\n",
    "similar_users"
   ]
  },
  {
   "cell_type": "code",
   "execution_count": 29,
   "id": "308ad0c2",
   "metadata": {},
   "outputs": [
    {
     "data": {
      "text/plain": [
       "Product D   NaN\n",
       "Product E   NaN\n",
       "Name: User1, dtype: float64"
      ]
     },
     "execution_count": 29,
     "metadata": {},
     "output_type": "execute_result"
    }
   ],
   "source": [
    "# Filter out products already rated by the user\n",
    "unrated_products = user_ratings[user_ratings.isna()]\n",
    "unrated_products"
   ]
  },
  {
   "cell_type": "code",
   "execution_count": 30,
   "id": "73838fcd",
   "metadata": {},
   "outputs": [
    {
     "data": {
      "text/plain": [
       "(2.4, 0.7999999999999999)"
      ]
     },
     "execution_count": 30,
     "metadata": {},
     "output_type": "execute_result"
    }
   ],
   "source": [
    "weighted_sum = user_similarity_df['User1']['User2'] * df.loc['User2', 'Product D']\n",
    "total_weight = abs(user_similarity_df['User1']['User2'])\n",
    "\n",
    "weighted_sum, total_weight"
   ]
  },
  {
   "cell_type": "code",
   "execution_count": 31,
   "id": "ce40c44c",
   "metadata": {},
   "outputs": [
    {
     "data": {
      "text/plain": [
       "3.0"
      ]
     },
     "execution_count": 31,
     "metadata": {},
     "output_type": "execute_result"
    }
   ],
   "source": [
    "weighted_rating_Product_D = weighted_sum / total_weight\n",
    "weighted_rating_Product_D"
   ]
  },
  {
   "cell_type": "code",
   "execution_count": 33,
   "id": "1bf6e79a",
   "metadata": {},
   "outputs": [],
   "source": [
    "# Calculate weighted sum of ratings for EACH unrated product\n",
    "weighted_ratings = {}\n",
    "for product in unrated_products.index:\n",
    "    weighted_sum = 0\n",
    "    total_weight = 0\n",
    "    \n",
    "    for other_user in df.index:\n",
    "        if not np.isnan(df.loc[other_user, product]):\n",
    "            weighted_sum += user_similarity_df['User1'][other_user] * df.loc[other_user, product]\n",
    "            total_weight += abs(user_similarity_df['User1'][other_user])\n",
    "            \n",
    "    weighted_ratings[product] = weighted_sum / total_weight if total_weight != 0 else 0"
   ]
  },
  {
   "cell_type": "code",
   "execution_count": 34,
   "id": "b336cb3a",
   "metadata": {},
   "outputs": [
    {
     "data": {
      "text/plain": [
       "{'Product D': 3.370652726191084, 'Product E': 3.3852507748271905}"
      ]
     },
     "execution_count": 34,
     "metadata": {},
     "output_type": "execute_result"
    }
   ],
   "source": [
    "weighted_ratings"
   ]
  },
  {
   "cell_type": "code",
   "execution_count": 35,
   "id": "5ebdcb2f",
   "metadata": {},
   "outputs": [
    {
     "data": {
      "text/plain": [
       "[('Product E', 3.3852507748271905), ('Product D', 3.370652726191084)]"
      ]
     },
     "execution_count": 35,
     "metadata": {},
     "output_type": "execute_result"
    }
   ],
   "source": [
    "# Sort products by the weighted rating (recommend the top n products)\n",
    "recommended_products = sorted(weighted_ratings.items(), key=lambda x: x[1], reverse=True)\n",
    "recommended_products"
   ]
  },
  {
   "cell_type": "code",
   "execution_count": 36,
   "id": "66ec78c7",
   "metadata": {},
   "outputs": [],
   "source": [
    "# Step 4: Make recommendations as a Function for a specific user (e.g., User1)\n",
    "def recommend_products(user, df, user_similarity_df, n_recommendations=2):\n",
    "    \n",
    "    user_ratings = df.loc[user]\n",
    "    \n",
    "    similar_users = user_similarity_df.loc[user]\n",
    "    \n",
    "    unrated_products = user_ratings[user_ratings.isna()]\n",
    "    \n",
    "    # Calculate weighted sum of ratings for EACH unrated product\n",
    "    weighted_ratings = {}\n",
    "    for product in unrated_products.index:\n",
    "        weighted_sum = 0\n",
    "        total_weight = 0\n",
    "\n",
    "        for other_user in df.index:\n",
    "            if not np.isnan(df.loc[other_user, product]):\n",
    "                weighted_sum += user_similarity_df[user][other_user] * df.loc[other_user, product]\n",
    "                total_weight += abs(user_similarity_df[user][other_user])\n",
    "\n",
    "        weighted_ratings[product] = weighted_sum / total_weight if total_weight != 0 else 0\n",
    "        \n",
    "    recommended_products = sorted(weighted_ratings.items(), key=lambda x: x[1], reverse=True)[:n_recommendations]\n",
    "\n",
    "    return recommended_products"
   ]
  },
  {
   "cell_type": "code",
   "execution_count": 37,
   "id": "7f58c0c1",
   "metadata": {},
   "outputs": [
    {
     "name": "stdout",
     "output_type": "stream",
     "text": [
      "Recommended products for User1: [('Product E', 3.3852507748271905), ('Product D', 3.370652726191084)]\n"
     ]
    }
   ],
   "source": [
    "# Example: Recommend 2 products for User1\n",
    "recommended_products = recommend_products('User1', df, user_similarity_df, n_recommendations=2)\n",
    "print(\"Recommended products for User1:\", recommended_products)"
   ]
  },
  {
   "cell_type": "code",
   "execution_count": 38,
   "id": "0d471a62",
   "metadata": {},
   "outputs": [
    {
     "name": "stdout",
     "output_type": "stream",
     "text": [
      "Recommended products for User2: [('Product E', 3.7937431619817144), ('Product B', 2.92297823314207)]\n"
     ]
    }
   ],
   "source": [
    "# Example: Recommend 2 products for User1\n",
    "recommended_products = recommend_products('User2', df, user_similarity_df, n_recommendations=2)\n",
    "print(\"Recommended products for User2:\", recommended_products)"
   ]
  },
  {
   "cell_type": "code",
   "execution_count": null,
   "id": "27c995bc",
   "metadata": {},
   "outputs": [],
   "source": []
  }
 ],
 "metadata": {
  "kernelspec": {
   "display_name": "Python 3 (ipykernel)",
   "language": "python",
   "name": "python3"
  },
  "language_info": {
   "codemirror_mode": {
    "name": "ipython",
    "version": 3
   },
   "file_extension": ".py",
   "mimetype": "text/x-python",
   "name": "python",
   "nbconvert_exporter": "python",
   "pygments_lexer": "ipython3",
   "version": "3.11.5"
  }
 },
 "nbformat": 4,
 "nbformat_minor": 5
}

{
 "cells": [
  {
   "cell_type": "markdown",
   "id": "8fc20fd3-7f38-4b6b-a8b9-24a411753bb0",
   "metadata": {},
   "source": [
    "un sistema di raccomandazione è un algoritmo progettato per suggerire elementi, contenuti o azioni agli utenti in base ad altri fattori, come preferenze., comportamento e interazioni storiche con gli utenti. questi sistemi analizzano i dati per identificare modelli e prevedere cosa gli utenti troveranno interssante o utile, con l'obiettivo di migliorare l'esperienza utente fornendo raccomandazioni personalizzate. si prova a identificare un pattern e sulla base di questo si prova a predirre"
   ]
  },
  {
   "cell_type": "markdown",
   "id": "0b0034e9-9f97-4440-848b-fe9ade61dbdc",
   "metadata": {},
   "source": [
    "CONTENT-BASED FILTERING\n",
    "si basa esclusivamente sugli attributi di un prodotto all'interno di un dataset"
   ]
  }
 ],
 "metadata": {
  "kernelspec": {
   "display_name": "Python 3 (ipykernel)",
   "language": "python",
   "name": "python3"
  },
  "language_info": {
   "codemirror_mode": {
    "name": "ipython",
    "version": 3
   },
   "file_extension": ".py",
   "mimetype": "text/x-python",
   "name": "python",
   "nbconvert_exporter": "python",
   "pygments_lexer": "ipython3",
   "version": "3.13.1"
  }
 },
 "nbformat": 4,
 "nbformat_minor": 5
}
